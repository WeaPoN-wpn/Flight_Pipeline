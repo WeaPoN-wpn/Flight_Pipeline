{
 "cells": [
  {
   "cell_type": "code",
   "execution_count": 1,
   "metadata": {},
   "outputs": [],
   "source": [
    "import pandas as pd\n",
    "import numpy as np\n",
    "import matplotlib.pyplot as plt\n",
    "import seaborn as sns\n",
    "import joblib\n",
    "import os\n",
    "import pyarrow\n",
    "from datetime import datetime"
   ]
  },
  {
   "cell_type": "markdown",
   "metadata": {},
   "source": [
    "## 1. 数据源与 Azure 连接（未来迁移到 azure_connector.py）\n",
    "### TODO：后续提取为 src/azure_connector.py -> AzureConnector 类"
   ]
  },
  {
   "cell_type": "code",
   "execution_count": 2,
   "metadata": {},
   "outputs": [],
   "source": [
    "import sys\n",
    "sys.path.append('../src')\n",
    "\n",
    "from azure_connector import AzureConnector"
   ]
  },
  {
   "cell_type": "code",
   "execution_count": null,
   "metadata": {},
   "outputs": [
    {
     "name": "stdout",
     "output_type": "stream",
     "text": [
      "✅ 成功读取 Parquet 文件：\n"
     ]
    },
    {
     "data": {
      "text/html": [
       "<div>\n",
       "<style scoped>\n",
       "    .dataframe tbody tr th:only-of-type {\n",
       "        vertical-align: middle;\n",
       "    }\n",
       "\n",
       "    .dataframe tbody tr th {\n",
       "        vertical-align: top;\n",
       "    }\n",
       "\n",
       "    .dataframe thead th {\n",
       "        text-align: right;\n",
       "    }\n",
       "</style>\n",
       "<table border=\"1\" class=\"dataframe\">\n",
       "  <thead>\n",
       "    <tr style=\"text-align: right;\">\n",
       "      <th></th>\n",
       "      <th>FlightDate</th>\n",
       "      <th>Airline</th>\n",
       "      <th>Origin</th>\n",
       "      <th>Dest</th>\n",
       "      <th>Cancelled</th>\n",
       "      <th>Diverted</th>\n",
       "      <th>CRSDepTime</th>\n",
       "      <th>DepTime</th>\n",
       "      <th>DepDelayMinutes</th>\n",
       "      <th>DepDelay</th>\n",
       "      <th>...</th>\n",
       "      <th>WheelsOff</th>\n",
       "      <th>WheelsOn</th>\n",
       "      <th>TaxiIn</th>\n",
       "      <th>CRSArrTime</th>\n",
       "      <th>ArrDelay</th>\n",
       "      <th>ArrDel15</th>\n",
       "      <th>ArrivalDelayGroups</th>\n",
       "      <th>ArrTimeBlk</th>\n",
       "      <th>DistanceGroup</th>\n",
       "      <th>DivAirportLandings</th>\n",
       "    </tr>\n",
       "  </thead>\n",
       "  <tbody>\n",
       "    <tr>\n",
       "      <th>0</th>\n",
       "      <td>2022-04-04</td>\n",
       "      <td>Commutair Aka Champlain Enterprises, Inc.</td>\n",
       "      <td>GJT</td>\n",
       "      <td>DEN</td>\n",
       "      <td>False</td>\n",
       "      <td>False</td>\n",
       "      <td>1133</td>\n",
       "      <td>1123.0</td>\n",
       "      <td>0.0</td>\n",
       "      <td>-10.0</td>\n",
       "      <td>...</td>\n",
       "      <td>1140.0</td>\n",
       "      <td>1220.0</td>\n",
       "      <td>8.0</td>\n",
       "      <td>1245</td>\n",
       "      <td>-17.0</td>\n",
       "      <td>0.0</td>\n",
       "      <td>-2.0</td>\n",
       "      <td>1200-1259</td>\n",
       "      <td>1</td>\n",
       "      <td>0</td>\n",
       "    </tr>\n",
       "    <tr>\n",
       "      <th>1</th>\n",
       "      <td>2022-04-04</td>\n",
       "      <td>Commutair Aka Champlain Enterprises, Inc.</td>\n",
       "      <td>HRL</td>\n",
       "      <td>IAH</td>\n",
       "      <td>False</td>\n",
       "      <td>False</td>\n",
       "      <td>732</td>\n",
       "      <td>728.0</td>\n",
       "      <td>0.0</td>\n",
       "      <td>-4.0</td>\n",
       "      <td>...</td>\n",
       "      <td>744.0</td>\n",
       "      <td>839.0</td>\n",
       "      <td>9.0</td>\n",
       "      <td>849</td>\n",
       "      <td>-1.0</td>\n",
       "      <td>0.0</td>\n",
       "      <td>-1.0</td>\n",
       "      <td>0800-0859</td>\n",
       "      <td>2</td>\n",
       "      <td>0</td>\n",
       "    </tr>\n",
       "    <tr>\n",
       "      <th>2</th>\n",
       "      <td>2022-04-04</td>\n",
       "      <td>Commutair Aka Champlain Enterprises, Inc.</td>\n",
       "      <td>DRO</td>\n",
       "      <td>DEN</td>\n",
       "      <td>False</td>\n",
       "      <td>False</td>\n",
       "      <td>1529</td>\n",
       "      <td>1514.0</td>\n",
       "      <td>0.0</td>\n",
       "      <td>-15.0</td>\n",
       "      <td>...</td>\n",
       "      <td>1535.0</td>\n",
       "      <td>1622.0</td>\n",
       "      <td>14.0</td>\n",
       "      <td>1639</td>\n",
       "      <td>-3.0</td>\n",
       "      <td>0.0</td>\n",
       "      <td>-1.0</td>\n",
       "      <td>1600-1659</td>\n",
       "      <td>2</td>\n",
       "      <td>0</td>\n",
       "    </tr>\n",
       "    <tr>\n",
       "      <th>3</th>\n",
       "      <td>2022-04-04</td>\n",
       "      <td>Commutair Aka Champlain Enterprises, Inc.</td>\n",
       "      <td>IAH</td>\n",
       "      <td>GPT</td>\n",
       "      <td>False</td>\n",
       "      <td>False</td>\n",
       "      <td>1435</td>\n",
       "      <td>1430.0</td>\n",
       "      <td>0.0</td>\n",
       "      <td>-5.0</td>\n",
       "      <td>...</td>\n",
       "      <td>1446.0</td>\n",
       "      <td>1543.0</td>\n",
       "      <td>4.0</td>\n",
       "      <td>1605</td>\n",
       "      <td>-18.0</td>\n",
       "      <td>0.0</td>\n",
       "      <td>-2.0</td>\n",
       "      <td>1600-1659</td>\n",
       "      <td>2</td>\n",
       "      <td>0</td>\n",
       "    </tr>\n",
       "    <tr>\n",
       "      <th>4</th>\n",
       "      <td>2022-04-04</td>\n",
       "      <td>Commutair Aka Champlain Enterprises, Inc.</td>\n",
       "      <td>DRO</td>\n",
       "      <td>DEN</td>\n",
       "      <td>False</td>\n",
       "      <td>False</td>\n",
       "      <td>1135</td>\n",
       "      <td>1135.0</td>\n",
       "      <td>0.0</td>\n",
       "      <td>0.0</td>\n",
       "      <td>...</td>\n",
       "      <td>1154.0</td>\n",
       "      <td>1243.0</td>\n",
       "      <td>8.0</td>\n",
       "      <td>1245</td>\n",
       "      <td>6.0</td>\n",
       "      <td>0.0</td>\n",
       "      <td>0.0</td>\n",
       "      <td>1200-1259</td>\n",
       "      <td>2</td>\n",
       "      <td>0</td>\n",
       "    </tr>\n",
       "  </tbody>\n",
       "</table>\n",
       "<p>5 rows × 61 columns</p>\n",
       "</div>"
      ],
      "text/plain": [
       "  FlightDate                                    Airline Origin Dest  \\\n",
       "0 2022-04-04  Commutair Aka Champlain Enterprises, Inc.    GJT  DEN   \n",
       "1 2022-04-04  Commutair Aka Champlain Enterprises, Inc.    HRL  IAH   \n",
       "2 2022-04-04  Commutair Aka Champlain Enterprises, Inc.    DRO  DEN   \n",
       "3 2022-04-04  Commutair Aka Champlain Enterprises, Inc.    IAH  GPT   \n",
       "4 2022-04-04  Commutair Aka Champlain Enterprises, Inc.    DRO  DEN   \n",
       "\n",
       "   Cancelled  Diverted  CRSDepTime  DepTime  DepDelayMinutes  DepDelay  ...  \\\n",
       "0      False     False        1133   1123.0              0.0     -10.0  ...   \n",
       "1      False     False         732    728.0              0.0      -4.0  ...   \n",
       "2      False     False        1529   1514.0              0.0     -15.0  ...   \n",
       "3      False     False        1435   1430.0              0.0      -5.0  ...   \n",
       "4      False     False        1135   1135.0              0.0       0.0  ...   \n",
       "\n",
       "   WheelsOff  WheelsOn  TaxiIn  CRSArrTime  ArrDelay  ArrDel15  \\\n",
       "0     1140.0    1220.0     8.0        1245     -17.0       0.0   \n",
       "1      744.0     839.0     9.0         849      -1.0       0.0   \n",
       "2     1535.0    1622.0    14.0        1639      -3.0       0.0   \n",
       "3     1446.0    1543.0     4.0        1605     -18.0       0.0   \n",
       "4     1154.0    1243.0     8.0        1245       6.0       0.0   \n",
       "\n",
       "   ArrivalDelayGroups  ArrTimeBlk  DistanceGroup  DivAirportLandings  \n",
       "0                -2.0   1200-1259              1                   0  \n",
       "1                -1.0   0800-0859              2                   0  \n",
       "2                -1.0   1600-1659              2                   0  \n",
       "3                -2.0   1600-1659              2                   0  \n",
       "4                 0.0   1200-1259              2                   0  \n",
       "\n",
       "[5 rows x 61 columns]"
      ]
     },
     "metadata": {},
     "output_type": "display_data"
    }
   ],
   "source": [
    "account_name = 'beadbatch'\n",
    "account_key = 'SWKKxmypIa/oz59CsQo8xHectQEv+jEJUKuG17qDzBFAJyWqDsuAhMtLymDaeDw0iu1BCbLof5lK+AStGm/VnQ=='\n",
    "container_name = 'batch'\n",
    "file_name = 'Combined_Flights_2022.parquet'\n",
    "\n",
    "azure = AzureConnector(account_name, account_key)\n",
    "df = azure.read_parquet(container_name, file_name)\n",
    "\n",
    "print(\"成功读取 Parquet 文件：\")\n",
    "display(df.head())"
   ]
  },
  {
   "cell_type": "code",
   "execution_count": null,
   "metadata": {},
   "outputs": [
    {
     "name": "stdout",
     "output_type": "stream",
     "text": [
      "{'FlightDate': 'datetime64[ns]', 'Airline': 'object', 'Origin': 'object', 'Dest': 'object', 'Cancelled': 'bool', 'Diverted': 'bool', 'CRSDepTime': 'int64', 'DepTime': 'float64', 'DepDelayMinutes': 'float64', 'DepDelay': 'float64', 'ArrTime': 'float64', 'ArrDelayMinutes': 'float64', 'AirTime': 'float64', 'CRSElapsedTime': 'float64', 'ActualElapsedTime': 'float64', 'Distance': 'float64', 'Year': 'int64', 'Quarter': 'int64', 'Month': 'int64', 'DayofMonth': 'int64', 'DayOfWeek': 'int64', 'Marketing_Airline_Network': 'object', 'Operated_or_Branded_Code_Share_Partners': 'object', 'DOT_ID_Marketing_Airline': 'int64', 'IATA_Code_Marketing_Airline': 'object', 'Flight_Number_Marketing_Airline': 'int64', 'Operating_Airline': 'object', 'DOT_ID_Operating_Airline': 'int64', 'IATA_Code_Operating_Airline': 'object', 'Tail_Number': 'object', 'Flight_Number_Operating_Airline': 'int64', 'OriginAirportID': 'int64', 'OriginAirportSeqID': 'int64', 'OriginCityMarketID': 'int64', 'OriginCityName': 'object', 'OriginState': 'object', 'OriginStateFips': 'int64', 'OriginStateName': 'object', 'OriginWac': 'int64', 'DestAirportID': 'int64', 'DestAirportSeqID': 'int64', 'DestCityMarketID': 'int64', 'DestCityName': 'object', 'DestState': 'object', 'DestStateFips': 'int64', 'DestStateName': 'object', 'DestWac': 'int64', 'DepDel15': 'float64', 'DepartureDelayGroups': 'float64', 'DepTimeBlk': 'object', 'TaxiOut': 'float64', 'WheelsOff': 'float64', 'WheelsOn': 'float64', 'TaxiIn': 'float64', 'CRSArrTime': 'int64', 'ArrDelay': 'float64', 'ArrDel15': 'float64', 'ArrivalDelayGroups': 'float64', 'ArrTimeBlk': 'object', 'DistanceGroup': 'int64', 'DivAirportLandings': 'int64'}\n"
     ]
    }
   ],
   "source": [
    "# 统计数据类型\n",
    "column_type_dict = {col: str(dtype) for col, dtype in df.dtypes.items()}\n",
    "print(column_type_dict)"
   ]
  },
  {
   "cell_type": "markdown",
   "metadata": {},
   "source": [
    "## 2. 数据预览与初步探索（EDA）"
   ]
  },
  {
   "cell_type": "code",
   "execution_count": null,
   "metadata": {},
   "outputs": [],
   "source": []
  },
  {
   "cell_type": "markdown",
   "metadata": {},
   "source": [
    "## 3. 数据清洗 & 特征工程（未来迁移到 src/data_processor.py）"
   ]
  },
  {
   "cell_type": "code",
   "execution_count": 9,
   "metadata": {},
   "outputs": [],
   "source": [
    "from sklearn.model_selection import train_test_split\n",
    "from sklearn.preprocessing import LabelEncoder, StandardScaler\n",
    "from sklearn.linear_model import LinearRegression\n",
    "from sklearn.metrics import mean_squared_error, r2_score"
   ]
  },
  {
   "cell_type": "code",
   "execution_count": 12,
   "metadata": {},
   "outputs": [],
   "source": [
    "# 选取特征（排除 ArrDelayMinutes 自身）\n",
    "features = [\n",
    "    'Airline', 'Origin', 'Dest', 'CRSDepTime', 'DepDelay', 'Distance',\n",
    "    'Month', 'DayofMonth', 'DayOfWeek', 'DepDel15', 'TaxiOut', 'CRSArrTime'\n",
    "]\n",
    "\n",
    "target = 'ArrDelayMinutes'\n",
    "\n",
    "# 处理时间特征（可选，把 CRSDepTime 转成小时）\n",
    "df['CRSDepHour'] = (df['CRSDepTime'] // 100).astype('int')\n",
    "df['CRSArrHour'] = (df['CRSArrTime'] // 100).astype('int')\n",
    "features.extend(['CRSDepHour', 'CRSArrHour'])\n",
    "\n",
    "# 缺失值简单处理\n",
    "df[features] = df[features].fillna(0)\n",
    "df[target] = df[target].fillna(df[target].mean())\n",
    "df['DepDelay'] = df['DepDelay'].fillna(df['DepDelay'].mean())\n",
    "df['TaxiOut'] = df['TaxiOut'].fillna(0)\n",
    "\n",
    "# 类别特征编码\n",
    "for col in ['Airline', 'Origin', 'Dest']:\n",
    "    le = LabelEncoder()\n",
    "    df[col] = le.fit_transform(df[col].astype(str))"
   ]
  },
  {
   "cell_type": "markdown",
   "metadata": {},
   "source": [
    "## 4. 模型训练（未来迁移到 src/modeling.py）"
   ]
  },
  {
   "cell_type": "code",
   "execution_count": 13,
   "metadata": {},
   "outputs": [
    {
     "name": "stdout",
     "output_type": "stream",
     "text": [
      "预测完成，RMSE: 10.04, R2 Score: 0.9615\n"
     ]
    }
   ],
   "source": [
    "# 准备建模数据\n",
    "X = df[features]\n",
    "y = df[target]\n",
    "\n",
    "# 标准化（可选，给回归模型提升表现）\n",
    "scaler = StandardScaler()\n",
    "X_scaled = scaler.fit_transform(X)\n",
    "\n",
    "# 划分训练测试集\n",
    "X_train, X_test, y_train, y_test = train_test_split(X_scaled, y, test_size=0.2, random_state=42)\n",
    "\n",
    "# 线性回归建模\n",
    "model = LinearRegression()\n",
    "model.fit(X_train, y_train)\n",
    "\n",
    "# 预测与评估\n",
    "y_pred = model.predict(X_test)\n",
    "rmse = np.sqrt(mean_squared_error(y_test, y_pred))\n",
    "r2 = r2_score(y_test, y_pred)\n",
    "\n",
    "print(f\"预测完成，RMSE: {rmse:.2f}, R2 Score: {r2:.4f}\")"
   ]
  }
 ],
 "metadata": {
  "kernelspec": {
   "display_name": "base",
   "language": "python",
   "name": "python3"
  },
  "language_info": {
   "codemirror_mode": {
    "name": "ipython",
    "version": 3
   },
   "file_extension": ".py",
   "mimetype": "text/x-python",
   "name": "python",
   "nbconvert_exporter": "python",
   "pygments_lexer": "ipython3",
   "version": "3.11.5"
  }
 },
 "nbformat": 4,
 "nbformat_minor": 2
}
